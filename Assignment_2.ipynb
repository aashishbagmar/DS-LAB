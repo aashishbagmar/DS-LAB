{
 "cells": [
  {
   "cell_type": "code",
   "execution_count": 25,
   "id": "0d9158c6",
   "metadata": {},
   "outputs": [],
   "source": [
    "import pandas as pd\n",
    "import numpy as np"
   ]
  },
  {
   "cell_type": "code",
   "execution_count": 26,
   "id": "2aa8b611",
   "metadata": {},
   "outputs": [
    {
     "data": {
      "text/html": [
       "<div>\n",
       "<style scoped>\n",
       "    .dataframe tbody tr th:only-of-type {\n",
       "        vertical-align: middle;\n",
       "    }\n",
       "\n",
       "    .dataframe tbody tr th {\n",
       "        vertical-align: top;\n",
       "    }\n",
       "\n",
       "    .dataframe thead th {\n",
       "        text-align: right;\n",
       "    }\n",
       "</style>\n",
       "<table border=\"1\" class=\"dataframe\">\n",
       "  <thead>\n",
       "    <tr style=\"text-align: right;\">\n",
       "      <th></th>\n",
       "      <th>Student_ID</th>\n",
       "      <th>Math_Score</th>\n",
       "      <th>Reading_Score</th>\n",
       "      <th>Hours_Studied</th>\n",
       "    </tr>\n",
       "  </thead>\n",
       "  <tbody>\n",
       "    <tr>\n",
       "      <th>0</th>\n",
       "      <td>1</td>\n",
       "      <td>88.0</td>\n",
       "      <td>78</td>\n",
       "      <td>10.0</td>\n",
       "    </tr>\n",
       "    <tr>\n",
       "      <th>1</th>\n",
       "      <td>2</td>\n",
       "      <td>92.0</td>\n",
       "      <td>85</td>\n",
       "      <td>12.0</td>\n",
       "    </tr>\n",
       "    <tr>\n",
       "      <th>2</th>\n",
       "      <td>3</td>\n",
       "      <td>95.0</td>\n",
       "      <td>88</td>\n",
       "      <td>15.0</td>\n",
       "    </tr>\n",
       "    <tr>\n",
       "      <th>3</th>\n",
       "      <td>4</td>\n",
       "      <td>NaN</td>\n",
       "      <td>70</td>\n",
       "      <td>0.0</td>\n",
       "    </tr>\n",
       "    <tr>\n",
       "      <th>4</th>\n",
       "      <td>5</td>\n",
       "      <td>45.0</td>\n",
       "      <td>90</td>\n",
       "      <td>1.0</td>\n",
       "    </tr>\n",
       "    <tr>\n",
       "      <th>5</th>\n",
       "      <td>6</td>\n",
       "      <td>82.0</td>\n",
       "      <td>75</td>\n",
       "      <td>9.0</td>\n",
       "    </tr>\n",
       "    <tr>\n",
       "      <th>6</th>\n",
       "      <td>7</td>\n",
       "      <td>99.0</td>\n",
       "      <td>77</td>\n",
       "      <td>20.0</td>\n",
       "    </tr>\n",
       "    <tr>\n",
       "      <th>7</th>\n",
       "      <td>8</td>\n",
       "      <td>100.0</td>\n",
       "      <td>95</td>\n",
       "      <td>30.0</td>\n",
       "    </tr>\n",
       "    <tr>\n",
       "      <th>8</th>\n",
       "      <td>9</td>\n",
       "      <td>20.0</td>\n",
       "      <td>60</td>\n",
       "      <td>0.5</td>\n",
       "    </tr>\n",
       "    <tr>\n",
       "      <th>9</th>\n",
       "      <td>10</td>\n",
       "      <td>85.0</td>\n",
       "      <td>82</td>\n",
       "      <td>10.0</td>\n",
       "    </tr>\n",
       "  </tbody>\n",
       "</table>\n",
       "</div>"
      ],
      "text/plain": [
       "   Student_ID  Math_Score  Reading_Score  Hours_Studied\n",
       "0           1        88.0             78           10.0\n",
       "1           2        92.0             85           12.0\n",
       "2           3        95.0             88           15.0\n",
       "3           4         NaN             70            0.0\n",
       "4           5        45.0             90            1.0\n",
       "5           6        82.0             75            9.0\n",
       "6           7        99.0             77           20.0\n",
       "7           8       100.0             95           30.0\n",
       "8           9        20.0             60            0.5\n",
       "9          10        85.0             82           10.0"
      ]
     },
     "execution_count": 26,
     "metadata": {},
     "output_type": "execute_result"
    }
   ],
   "source": [
    "data = {\n",
    "    'Student_ID': [1, 2, 3, 4, 5, 6, 7, 8, 9, 10],\n",
    "    'Math_Score': [88, 92, 95, np.nan, 45, 82, 99, 100, 20, 85],\n",
    "    'Reading_Score': [78, 85, 88, 70, 90, 75, 77, 95, 60, 82],\n",
    "    'Hours_Studied': [10, 12, 15, 0, 1, 9, 20, 30, 0.5, 10]\n",
    "}\n",
    "df = pd.DataFrame(data)\n",
    "df"
   ]
  },
  {
   "cell_type": "code",
   "execution_count": 27,
   "id": "03d8ed94",
   "metadata": {},
   "outputs": [
    {
     "name": "stdout",
     "output_type": "stream",
     "text": [
      "Missing Values:\n",
      " Student_ID       0\n",
      "Math_Score       1\n",
      "Reading_Score    0\n",
      "Hours_Studied    0\n",
      "dtype: int64\n"
     ]
    }
   ],
   "source": [
    "print(\"Missing Values:\\n\", df.isnull().sum())"
   ]
  },
  {
   "cell_type": "code",
   "execution_count": null,
   "id": "a48f7014",
   "metadata": {},
   "outputs": [
    {
     "name": "stderr",
     "output_type": "stream",
     "text": [
      "C:\\Users\\ASHISH BAGHMAR\\AppData\\Local\\Temp\\ipykernel_6216\\958010127.py:1: FutureWarning: A value is trying to be set on a copy of a DataFrame or Series through chained assignment using an inplace method.\n",
      "The behavior will change in pandas 3.0. This inplace method will never work because the intermediate object on which we are setting values always behaves as a copy.\n",
      "\n",
      "For example, when doing 'df[col].method(value, inplace=True)', try using 'df.method({col: value}, inplace=True)' or df[col] = df[col].method(value) instead, to perform the operation inplace on the original object.\n",
      "\n",
      "\n",
      "  df['Math_Score'] = df['Math_Score'].fillna(df['Math_Score'].mean(), inplace=True)\n"
     ]
    }
   ],
   "source": [
    "df['Math_Score'].fillna(df['Math_Score'].mean(), inplace=True)"
   ]
  },
  {
   "cell_type": "code",
   "execution_count": 29,
   "id": "46c4170e",
   "metadata": {},
   "outputs": [
    {
     "data": {
      "image/png": "[encoded data removed]",
      "text/plain": [
       "<Figure size 1000x400 with 1 Axes>"
      ]
     },
     "metadata": {},
     "output_type": "display_data"
    }
   ],
   "source": [
    "import seaborn as sns\n",
    "import matplotlib.pyplot as plt\n",
    "plt.figure(figsize=(10, 4))\n",
    "sns.boxplot(data=df[['Math_Score', 'Reading_Score', 'Hours_Studied']])\n",
    "plt.title('Boxplot for Outlier Detection')\n",
    "plt.show()"
   ]
  },
  {
   "cell_type": "code",
   "execution_count": 30,
   "id": "5644bb23",
   "metadata": {},
   "outputs": [],
   "source": [
    "def cap_outliers(col):\n",
    "    Q1 = col.quantile(0.25)\n",
    "    Q3 = col.quantile(0.75)\n",
    "    IQR = Q3 - Q1\n",
    "    lower = Q1 - 1.5 * IQR\n",
    "    upper = Q3 + 1.5 * IQR\n",
    "    return np.where(col < lower, lower, np.where(col > upper, upper, col))\n",
    "df['Hours_Studied'] = cap_outliers(df['Hours_Studied'])"
   ]
  },
  {
   "cell_type": "code",
   "execution_count": 31,
   "id": "c81367d8",
   "metadata": {},
   "outputs": [
    {
     "name": "stdout",
     "output_type": "stream",
     "text": [
      "Original skew: 0.7939195909701177\n",
      "Transformed skew: -0.7811569245251885\n",
      "   Student_ID Math_Score  Reading_Score  Hours_Studied  Log_Hours_Studied\n",
      "0           1       None             78           10.0           2.397895\n",
      "1           2       None             85           12.0           2.564949\n",
      "2           3       None             88           15.0           2.772589\n",
      "3           4       None             70            0.0           0.000000\n",
      "4           5       None             90            1.0           0.693147\n",
      "5           6       None             75            9.0           2.302585\n",
      "6           7       None             77           20.0           3.044522\n",
      "7           8       None             95           30.0           3.433987\n",
      "8           9       None             60            0.5           0.405465\n",
      "9          10       None             82           10.0           2.397895\n"
     ]
    }
   ],
   "source": [
    "df['Log_Hours_Studied'] = np.log1p(df['Hours_Studied'])\n",
    "print(\"Original skew:\", df['Hours_Studied'].skew())\n",
    "print(\"Transformed skew:\", df['Log_Hours_Studied'].skew())\n",
    "print(df)"
   ]
  }
 ],
 "metadata": {
  "kernelspec": {
   "display_name": "Python 3",
   "language": "python",
   "name": "python3"
  },
  "language_info": {
   "codemirror_mode": {
    "name": "ipython",
    "version": 3
   },
   "file_extension": ".py",
   "mimetype": "text/x-python",
   "name": "python",
   "nbconvert_exporter": "python",
   "pygments_lexer": "ipython3",
   "version": "3.13.0"
  }
 },
 "nbformat": 4,
 "nbformat_minor": 5
}
